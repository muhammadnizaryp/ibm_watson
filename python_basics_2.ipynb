{
    "cells": [
        {
            "cell_type": "markdown",
            "metadata": {},
            "source": "# <div align=\"center\"> Python for Data Science </div>"
        },
        {
            "cell_type": "markdown",
            "metadata": {},
            "source": "### [Link Courses](https://cognitiveclass.ai/courses/python-for-data-science)"
        },
        {
            "cell_type": "markdown",
            "metadata": {},
            "source": "<span style=\"color:#22a6b3\"> Muhammad Nizar Yoga Pratama / Data Science UI Fasilkom - Kelas D </span>"
        },
        {
            "cell_type": "markdown",
            "metadata": {},
            "source": "## Module 3 - Python Programming Fundamentals"
        },
        {
            "cell_type": "markdown",
            "metadata": {
                "collapsed": true
            },
            "source": "### 3.1 Quick Practice Lab (Conditions and Branching)"
        },
        {
            "cell_type": "code",
            "execution_count": 1,
            "metadata": {},
            "outputs": [
                {
                    "data": {
                        "text/plain": "True"
                    },
                    "execution_count": 1,
                    "metadata": {},
                    "output_type": "execute_result"
                }
            ],
            "source": "# (Comparison operations)\n# Find the value of i that produces a True\n\ni=101\ni>100"
        },
        {
            "cell_type": "code",
            "execution_count": 2,
            "metadata": {},
            "outputs": [
                {
                    "name": "stdout",
                    "output_type": "stream",
                    "text": "this is a\n"
                }
            ],
            "source": "# (Branching)\n# Find the value of x that prints the statement: \"this is a\"\n\nx='a'\nif(x=='a'):\n    print(\"this is a\")\nelse:\n    print(\"this is not a\")"
        },
        {
            "cell_type": "code",
            "execution_count": 3,
            "metadata": {},
            "outputs": [
                {
                    "data": {
                        "text/plain": "True"
                    },
                    "execution_count": 3,
                    "metadata": {},
                    "output_type": "execute_result"
                }
            ],
            "source": "# (Logic Operators)\n# find the value of y that produces a True statement\n\ny=7\nx=1\nx>0 and y<10"
        },
        {
            "cell_type": "markdown",
            "metadata": {},
            "source": "### 3.2 Quick Practice Lab (Loops)"
        },
        {
            "cell_type": "code",
            "execution_count": 4,
            "metadata": {},
            "outputs": [
                {
                    "name": "stdout",
                    "output_type": "stream",
                    "text": "1\n2\n3\n4\n5\n"
                }
            ],
            "source": "# (For Loops)\nA=[1,2,3,4,5]\n# Use loops to print out the elements in the list A\n\nfor item in A:\n    print(item)"
        },
        {
            "cell_type": "code",
            "execution_count": 5,
            "metadata": {},
            "outputs": [
                {
                    "name": "stdout",
                    "output_type": "stream",
                    "text": "1\n2\n3\n4\n5\n6\n7\n8\n9\n10\n"
                }
            ],
            "source": "# (While Loops)\n# Find the value of  x  that will print out the sequence  1,2,..,10 \n\nx=11\ny=1\nwhile(y<x):\n    print(y)\n    y=y+1"
        },
        {
            "cell_type": "markdown",
            "metadata": {},
            "source": "### 3.3 Quick Practice Lab (Functions)"
        },
        {
            "cell_type": "code",
            "execution_count": 6,
            "metadata": {},
            "outputs": [],
            "source": "# complete the function  f  so that it returns the product of  a  and  b\n# you the next cell to test the function\n\ndef f(a,b):\n    \n    return a*b"
        },
        {
            "cell_type": "code",
            "execution_count": 7,
            "metadata": {},
            "outputs": [
                {
                    "name": "stdout",
                    "output_type": "stream",
                    "text": "correct\n"
                }
            ],
            "source": "a=4\nb=2\n\nif a*b==f(a,b):   \n    print(\"correct\")   \nelse:    \n    print(\"incorrect\")"
        },
        {
            "cell_type": "code",
            "execution_count": 8,
            "metadata": {},
            "outputs": [],
            "source": "# Complete the function  g  such that the input  c  is a list of integers \n# and the output is the sum of all the elements in the list\n\ndef g(c):\n\n    return sum(c)"
        },
        {
            "cell_type": "code",
            "execution_count": 9,
            "metadata": {},
            "outputs": [
                {
                    "name": "stdout",
                    "output_type": "stream",
                    "text": "correct\n"
                }
            ],
            "source": "c=[1,2,3,4,5]\n\nif sum(c)==g(c):   \n    print(\"correct\")   \nelse:    \n    print(\"incorrect\")"
        },
        {
            "cell_type": "markdown",
            "metadata": {},
            "source": "### 3.4 Quick Practice Lab (Objects and Classes)"
        },
        {
            "cell_type": "code",
            "execution_count": 10,
            "metadata": {},
            "outputs": [],
            "source": "class Car(object):\n    def __init__(self,make,model,color):\n        self.make=make;\n        self.model=model;\n        self.color=color;\n        self.owner_number=0 \n    def car_info(self):\n        print(\"make: \",self.make)\n        print(\"model:\", self.model)\n        print(\"color:\",self.color)\n        print(\"number of owners:\",self.owner_number)\n    def sell(self):\n        self.owner_number=self.owner_number+1"
        },
        {
            "cell_type": "code",
            "execution_count": 11,
            "metadata": {},
            "outputs": [
                {
                    "name": "stdout",
                    "output_type": "stream",
                    "text": "Help on Car in module __main__ object:\n\nclass Car(builtins.object)\n |  Methods defined here:\n |  \n |  __init__(self, make, model, color)\n |      Initialize self.  See help(type(self)) for accurate signature.\n |  \n |  car_info(self)\n |  \n |  sell(self)\n |  \n |  ----------------------------------------------------------------------\n |  Data descriptors defined here:\n |  \n |  __dict__\n |      dictionary for instance variables (if defined)\n |  \n |  __weakref__\n |      list of weak references to the object (if defined)\n\n"
                }
            ],
            "source": "# Create a  Car  object my_car with the given data attributes:\n# make=\"BMW\"\n# model=\"M3\"\n# color=\"red\"\n\nmy_car = Car(make=\"BMW\", model=\"M3\", color=\"red\")\nhelp(my_car)"
        },
        {
            "cell_type": "code",
            "execution_count": 12,
            "metadata": {},
            "outputs": [
                {
                    "name": "stdout",
                    "output_type": "stream",
                    "text": "make:  BMW\nmodel: M3\ncolor: red\nnumber of owners: 0\n"
                }
            ],
            "source": "# Use the method car_info() to print out the data attributes\n\nmy_car.car_info()"
        },
        {
            "cell_type": "code",
            "execution_count": 13,
            "metadata": {},
            "outputs": [
                {
                    "name": "stdout",
                    "output_type": "stream",
                    "text": "make:  BMW\nmodel: M3\ncolor: red\nnumber of owners: 1\nmake:  BMW\nmodel: M3\ncolor: red\nnumber of owners: 2\nmake:  BMW\nmodel: M3\ncolor: red\nnumber of owners: 3\nmake:  BMW\nmodel: M3\ncolor: red\nnumber of owners: 4\nmake:  BMW\nmodel: M3\ncolor: red\nnumber of owners: 5\n"
                }
            ],
            "source": "# Call the method  sell()  in the loop, then call the method  car_info() again\n\nfor i in range(5):\n    my_car.sell()\n    my_car.car_info()"
        },
        {
            "cell_type": "markdown",
            "metadata": {},
            "source": "### 3.1 Quiz on Lab (Conditions and Branching)"
        },
        {
            "cell_type": "code",
            "execution_count": 14,
            "metadata": {},
            "outputs": [
                {
                    "name": "stdout",
                    "output_type": "stream",
                    "text": "This album is Amazing!\n"
                }
            ],
            "source": "# Write an if statement to determine if an album had a rating greater than 8. \n# Test it using the rating for the album \u201cBack in Black\u201d that had a rating of 8.5. \n# If the statement is true print \"This album is Amazing!\"\n\nrating = 8.5\n\nif rating > 8:\n    print(\"This album is Amazing!\")"
        },
        {
            "cell_type": "code",
            "execution_count": 15,
            "metadata": {},
            "outputs": [
                {
                    "name": "stdout",
                    "output_type": "stream",
                    "text": "this album is ok\n"
                }
            ],
            "source": "# Write an if-else statement that performs the following. \n# If the rating is larger then eight print \u201cthis album is amazing\u201d. \n# If the rating is less than or equal to 8 print \u201cthis album is ok\u201d.\n\nrating = 8 \n\nif rating > 8:\n    print(\"this album is amazing\")\nelif rating <= 8:\n    print(\"this album is ok\")"
        },
        {
            "cell_type": "code",
            "execution_count": 16,
            "metadata": {},
            "outputs": [
                {
                    "name": "stdout",
                    "output_type": "stream",
                    "text": "this album came out already\n"
                }
            ],
            "source": "# Write an if statement to determine \n# if an album came out before 1980 or in the years: 1991 or 1993. \n# If the condition is true print out the year the album came out.\n\nyear = 1979\n\nif (year < 1980) or (year == 1991) or (year == 1993):\n    print(\"this album came out already\")"
        },
        {
            "cell_type": "markdown",
            "metadata": {},
            "source": "### 3.2 Quiz on Lab (Loops)"
        },
        {
            "cell_type": "code",
            "execution_count": 17,
            "metadata": {},
            "outputs": [
                {
                    "name": "stdout",
                    "output_type": "stream",
                    "text": "-5\n-4\n-3\n-2\n-1\n0\n1\n2\n3\n4\n5\n"
                }
            ],
            "source": "# Write a for loop the prints out all the element between -5 and 5 \n# using the range function.\n\nelements = range(-5,6)\n\nfor item in elements:\n    print(item)"
        },
        {
            "cell_type": "code",
            "execution_count": 18,
            "metadata": {},
            "outputs": [
                {
                    "name": "stdout",
                    "output_type": "stream",
                    "text": "rock\nR&B\nSoundtrack\nR&B\nsoul\npop\n"
                }
            ],
            "source": "# Print the elements of the following list: \n# Genres=[ 'rock', 'R&B', 'Soundtrack', 'R&B', 'soul', 'pop'] \n# Make sure you follow Python conventions.\n\nGenres = [ 'rock', 'R&B', 'Soundtrack', 'R&B', 'soul', 'pop']\n\nfor item in Genres:\n    print(item)"
        },
        {
            "cell_type": "code",
            "execution_count": 19,
            "metadata": {},
            "outputs": [
                {
                    "name": "stdout",
                    "output_type": "stream",
                    "text": "red\nyellow\ngreen\npurple\nblue\n"
                }
            ],
            "source": "# Write a for loop that prints out the following list: \n# squares=['red', 'yellow', 'green', 'purple', 'blue']\n\nsquares=['red', 'yellow', 'green', 'purple', 'blue']\n\nfor item in squares:\n    print(item)"
        },
        {
            "cell_type": "code",
            "execution_count": 20,
            "metadata": {},
            "outputs": [
                {
                    "name": "stdout",
                    "output_type": "stream",
                    "text": "10\n9.5\n10\n8\n7.5\n"
                }
            ],
            "source": "# Write a while loop to display the values of the Rating of an album playlist \n# stored in the list PlayListRatings. If the score is less than 6, exit the loop. \n# The list PlayListRatings is given by: \n# PlayListRatings = [10, 9.5, 10, 8, 7.5, 5, 10, 10]\n\nPlayListRatings = [10, 9.5, 10, 8, 7.5, 5, 10, 10]\n\ni=0\nwhile i < len(PlayListRatings):\n    if PlayListRatings[i]<6:\n        break\n    else:\n        print(PlayListRatings[i])\n    i = i+1"
        },
        {
            "cell_type": "code",
            "execution_count": 21,
            "metadata": {},
            "outputs": [
                {
                    "name": "stdout",
                    "output_type": "stream",
                    "text": "['orange', 'orange']\n"
                }
            ],
            "source": "# Write a while loop to copy the strings 'orange' of the list squares \n# to the list new_squares. Stop and exit the loop if the value on the list is \n# not 'orange':\n\nsquares = ['orange', 'orange', 'purple', 'blue ', 'orange']\nnew_squares = []\n\ni = 0\nwhile i < len(squares):\n    if squares[i] == 'orange':\n        new_squares.append(squares[i])\n    else:\n        break\n    i = i+1\n\nprint(new_squares)"
        },
        {
            "cell_type": "markdown",
            "metadata": {},
            "source": "### 3.3 Quiz on Lab (Functions)"
        },
        {
            "cell_type": "code",
            "execution_count": 22,
            "metadata": {},
            "outputs": [],
            "source": "# Come up with a function that divides the first input by the second input:\n\ndef div(a,b):\n    return a/b"
        },
        {
            "cell_type": "code",
            "execution_count": 23,
            "metadata": {},
            "outputs": [
                {
                    "data": {
                        "text/plain": "2.0"
                    },
                    "execution_count": 23,
                    "metadata": {},
                    "output_type": "execute_result"
                }
            ],
            "source": "div(4,2)"
        },
        {
            "cell_type": "code",
            "execution_count": 24,
            "metadata": {},
            "outputs": [],
            "source": "# Use the function con for the following question.\n\ndef con(a, b):\n    return(a + b)"
        },
        {
            "cell_type": "code",
            "execution_count": 25,
            "metadata": {},
            "outputs": [
                {
                    "name": "stdout",
                    "output_type": "stream",
                    "text": "8\npython\n"
                }
            ],
            "source": "# Can the con function we defined before be used to add to integers or strings?\n\n# ya, bisa.\nprint(con(1,7))\nprint(con('py','thon'))"
        },
        {
            "cell_type": "code",
            "execution_count": 26,
            "metadata": {},
            "outputs": [
                {
                    "name": "stdout",
                    "output_type": "stream",
                    "text": "[1, 2, 3, 4, 5, 6]\n[1, 2, 3, 4, 5, 6]\n"
                }
            ],
            "source": "# Can the con function we defined before be used to concentrate a list or tuple?\n\n# ya, bisa.\nls1 = [1,2,3]\nls2 = [4,5,6]\nprint(con(ls1, ls2))\n\ntp1 = (1,2,3)\ntp2 = (4,5,6)\nprint(con(ls1, ls2))"
        },
        {
            "cell_type": "markdown",
            "metadata": {},
            "source": "### 3.4 Quiz on Lab (Classes and Objects)"
        },
        {
            "cell_type": "code",
            "execution_count": 27,
            "metadata": {},
            "outputs": [],
            "source": "# Create a new Rectangle class for creating a rectangle object\n\nimport matplotlib.pyplot as plt\n\nclass Rectangle(object):\n    \n    # Constructor\n    def __init__(self, width=2, height=3, color='r'):\n        self.height = height \n        self.width = width\n        self.color = color\n    \n    # Method\n    def drawRectangle(self):\n        plt.gca().add_patch(plt.Rectangle((0, 0), self.width, self.height ,fc=self.color))\n        plt.axis('scaled')\n        plt.show()"
        },
        {
            "cell_type": "code",
            "execution_count": 28,
            "metadata": {},
            "outputs": [],
            "source": "# Let\u2019s create the object SkinnyBlueRectangle of type Rectangle. \n# Its width will be 2 and height will be 3, and the color will be blue:\n\nSkinnyBlueRectangle = Rectangle(2, 10, 'blue')"
        },
        {
            "cell_type": "code",
            "execution_count": 29,
            "metadata": {},
            "outputs": [
                {
                    "data": {
                        "text/plain": "10"
                    },
                    "execution_count": 29,
                    "metadata": {},
                    "output_type": "execute_result"
                }
            ],
            "source": "# Print the object attribute height\n\nSkinnyBlueRectangle.height "
        },
        {
            "cell_type": "code",
            "execution_count": 30,
            "metadata": {},
            "outputs": [
                {
                    "data": {
                        "text/plain": "2"
                    },
                    "execution_count": 30,
                    "metadata": {},
                    "output_type": "execute_result"
                }
            ],
            "source": "# Print the object attribute width\n\nSkinnyBlueRectangle.width"
        },
        {
            "cell_type": "code",
            "execution_count": 31,
            "metadata": {},
            "outputs": [
                {
                    "data": {
                        "text/plain": "'blue'"
                    },
                    "execution_count": 31,
                    "metadata": {},
                    "output_type": "execute_result"
                }
            ],
            "source": "# Print the object attribute color\n\nSkinnyBlueRectangle.color"
        },
        {
            "cell_type": "code",
            "execution_count": 32,
            "metadata": {},
            "outputs": [
                {
                    "data": {
                        "image/png": "[encoded data removed]",
                        "text/plain": "<Figure size 432x288 with 1 Axes>"
                    },
                    "metadata": {
                        "needs_background": "light"
                    },
                    "output_type": "display_data"
                }
            ],
            "source": "# Use the drawRectangle method to draw the shape\n\nSkinnyBlueRectangle.drawRectangle()"
        },
        {
            "cell_type": "code",
            "execution_count": 33,
            "metadata": {},
            "outputs": [],
            "source": "# Let\u2019s create the object FatYellowRectangle of type Rectangle:\n# Create a new object rectangle\n\nFatYellowRectangle = Rectangle(20, 5, 'yellow')"
        },
        {
            "cell_type": "code",
            "execution_count": 34,
            "metadata": {},
            "outputs": [
                {
                    "data": {
                        "text/plain": "5"
                    },
                    "execution_count": 34,
                    "metadata": {},
                    "output_type": "execute_result"
                }
            ],
            "source": "# Print the object attribute height\n\nFatYellowRectangle.height "
        },
        {
            "cell_type": "code",
            "execution_count": 35,
            "metadata": {},
            "outputs": [
                {
                    "data": {
                        "text/plain": "20"
                    },
                    "execution_count": 35,
                    "metadata": {},
                    "output_type": "execute_result"
                }
            ],
            "source": "# Print the object attribute width\n\nFatYellowRectangle.width"
        },
        {
            "cell_type": "code",
            "execution_count": 36,
            "metadata": {},
            "outputs": [
                {
                    "data": {
                        "text/plain": "'yellow'"
                    },
                    "execution_count": 36,
                    "metadata": {},
                    "output_type": "execute_result"
                }
            ],
            "source": "# Print the object attribute color\n\nFatYellowRectangle.color"
        },
        {
            "cell_type": "code",
            "execution_count": 37,
            "metadata": {},
            "outputs": [
                {
                    "data": {
                        "image/png": "[encoded data removed]",
                        "text/plain": "<Figure size 432x288 with 1 Axes>"
                    },
                    "metadata": {
                        "needs_background": "light"
                    },
                    "output_type": "display_data"
                }
            ],
            "source": "# Use the drawRectangle method to draw the shape\n\nFatYellowRectangle.drawRectangle()"
        },
        {
            "cell_type": "code",
            "execution_count": null,
            "metadata": {},
            "outputs": [],
            "source": ""
        }
    ],
    "metadata": {
        "kernelspec": {
            "display_name": "Python 3.6",
            "language": "python",
            "name": "python3"
        },
        "language_info": {
            "codemirror_mode": {
                "name": "ipython",
                "version": 3
            },
            "file_extension": ".py",
            "mimetype": "text/x-python",
            "name": "python",
            "nbconvert_exporter": "python",
            "pygments_lexer": "ipython3",
            "version": "3.6.9"
        }
    },
    "nbformat": 4,
    "nbformat_minor": 1
}