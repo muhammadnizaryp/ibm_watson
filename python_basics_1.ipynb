{
    "cells": [
        {
            "cell_type": "markdown",
            "metadata": {},
            "source": "# <div align=\"center\"> Python for Data Science </div>"
        },
        {
            "cell_type": "markdown",
            "metadata": {},
            "source": "### [Link Courses](https://cognitiveclass.ai/courses/python-for-data-science)"
        },
        {
            "cell_type": "markdown",
            "metadata": {},
            "source": "<span style=\"color:#22a6b3\"> _**Muhammad Nizar Yoga Pratama / Data Science UI Fasilkom - Kelas D**_ </span>"
        },
        {
            "cell_type": "markdown",
            "metadata": {},
            "source": "## 1. Module 1 - Python Basics"
        },
        {
            "cell_type": "markdown",
            "metadata": {},
            "source": "### Quick Practice Lab (Your First Program)"
        },
        {
            "cell_type": "code",
            "execution_count": 1,
            "metadata": {},
            "outputs": [
                {
                    "name": "stdout",
                    "output_type": "stream",
                    "text": "Hello\nWorld!\n"
                }
            ],
            "source": "# Using the Practice Lab find the result of executing print(\"Hello\\nWorld!\") statement\nprint(\"Hello\\nWorld!\")"
        },
        {
            "cell_type": "code",
            "execution_count": 2,
            "metadata": {},
            "outputs": [],
            "source": "# what is the output of executing the following statement: # print('Hello World!')\n# print('Hello World!')\n\n# there is no output as it is a comment "
        },
        {
            "cell_type": "markdown",
            "metadata": {},
            "source": "### Quick Practice Lab (Types)"
        },
        {
            "cell_type": "code",
            "execution_count": 3,
            "metadata": {},
            "outputs": [
                {
                    "data": {
                        "text/plain": "int"
                    },
                    "execution_count": 3,
                    "metadata": {},
                    "output_type": "execute_result"
                }
            ],
            "source": "# What is the type of the following int(1.0)?\ntype(int(1.0))"
        },
        {
            "cell_type": "code",
            "execution_count": 4,
            "metadata": {},
            "outputs": [
                {
                    "data": {
                        "text/plain": "True"
                    },
                    "execution_count": 4,
                    "metadata": {},
                    "output_type": "execute_result"
                }
            ],
            "source": "# Enter the code to convert the number 1 to a Boolean?\nbool(1)"
        },
        {
            "cell_type": "markdown",
            "metadata": {},
            "source": "### Quick Practice Lab (String Operations)"
        },
        {
            "cell_type": "code",
            "execution_count": 5,
            "metadata": {},
            "outputs": [
                {
                    "data": {
                        "text/plain": "'0246'"
                    },
                    "execution_count": 5,
                    "metadata": {},
                    "output_type": "execute_result"
                }
            ],
            "source": "#Consider the following string:\nNumbers=\"0123456\"\n#how would you obtain the even elements ?\n\nNumbers[::2]"
        },
        {
            "cell_type": "code",
            "execution_count": 6,
            "metadata": {},
            "outputs": [
                {
                    "data": {
                        "text/plain": "1"
                    },
                    "execution_count": 6,
                    "metadata": {},
                    "output_type": "execute_result"
                }
            ],
            "source": "#What is the result of the following line of code:\n\"0123456\".find('1')"
        },
        {
            "cell_type": "markdown",
            "metadata": {},
            "source": "### 1.1 Lab - Write your first Python code!"
        },
        {
            "cell_type": "markdown",
            "metadata": {},
            "source": "#### Exercise: Your First Program"
        },
        {
            "cell_type": "code",
            "execution_count": 7,
            "metadata": {},
            "outputs": [
                {
                    "name": "stdout",
                    "output_type": "stream",
                    "text": "Hello, world!\n"
                }
            ],
            "source": "# In the code cell below, use the print() function to print out the phrase: Hello, world!\n\nprint(\"Hello, world!\")"
        },
        {
            "cell_type": "code",
            "execution_count": 8,
            "metadata": {},
            "outputs": [
                {
                    "name": "stdout",
                    "output_type": "stream",
                    "text": "Hello, world!\n"
                }
            ],
            "source": "# print out the phrase: Hello, world! and comment it with the phrase Print the traditional hello world all in one line of code.\n\nprint(\"Hello, world!\") # Print the traditional hello world"
        },
        {
            "cell_type": "markdown",
            "metadata": {},
            "source": "#### Exercise: Types"
        },
        {
            "cell_type": "code",
            "execution_count": 9,
            "metadata": {},
            "outputs": [
                {
                    "data": {
                        "text/plain": "float"
                    },
                    "execution_count": 9,
                    "metadata": {},
                    "output_type": "execute_result"
                }
            ],
            "source": "# What is the data type of the result of: 6 / 2?\n\ntype(6/2)"
        },
        {
            "cell_type": "code",
            "execution_count": 10,
            "metadata": {},
            "outputs": [
                {
                    "data": {
                        "text/plain": "int"
                    },
                    "execution_count": 10,
                    "metadata": {},
                    "output_type": "execute_result"
                }
            ],
            "source": "# What is the type of the result of: 6 // 2?\n\ntype(6//2)"
        },
        {
            "cell_type": "markdown",
            "metadata": {},
            "source": "#### Exercise: Expression"
        },
        {
            "cell_type": "code",
            "execution_count": 11,
            "metadata": {},
            "outputs": [
                {
                    "data": {
                        "text/plain": "2.6666666666666665"
                    },
                    "execution_count": 11,
                    "metadata": {},
                    "output_type": "execute_result"
                }
            ],
            "source": "# Let's write an expression that calculates how many hours there are in 160 minutes:\n\n160/60 # atau bisa menggunakan 160//60"
        },
        {
            "cell_type": "markdown",
            "metadata": {},
            "source": "#### Exercise: Expression and Variables in Python "
        },
        {
            "cell_type": "code",
            "execution_count": 12,
            "metadata": {},
            "outputs": [
                {
                    "name": "stdout",
                    "output_type": "stream",
                    "text": "7\n"
                }
            ],
            "source": "# What is the value of x where x = 3 + 2 * 2\n\nx = 3 + 2 * 2\nprint(x)"
        },
        {
            "cell_type": "code",
            "execution_count": 13,
            "metadata": {},
            "outputs": [
                {
                    "name": "stdout",
                    "output_type": "stream",
                    "text": "10\n"
                }
            ],
            "source": "# What is the value of y where y = (3 + 2) * 2?\n\ny = (3 + 2) * 2\nprint(y)"
        },
        {
            "cell_type": "code",
            "execution_count": 14,
            "metadata": {},
            "outputs": [
                {
                    "name": "stdout",
                    "output_type": "stream",
                    "text": "17\n"
                }
            ],
            "source": "# What is the value of z where z = x + y?\n\nz = x + y\nprint(z)"
        },
        {
            "cell_type": "markdown",
            "metadata": {},
            "source": "### 1.2 Lab - String Operations"
        },
        {
            "cell_type": "markdown",
            "metadata": {},
            "source": "#### Quiz on Strings"
        },
        {
            "cell_type": "code",
            "execution_count": 15,
            "metadata": {},
            "outputs": [
                {
                    "name": "stdout",
                    "output_type": "stream",
                    "text": "1\n"
                }
            ],
            "source": "A = \"1\"\n# What is the value of the variable A after the following code is executed? \n\nprint(A)"
        },
        {
            "cell_type": "code",
            "execution_count": 16,
            "metadata": {},
            "outputs": [
                {
                    "name": "stdout",
                    "output_type": "stream",
                    "text": "2\n"
                }
            ],
            "source": "B = \"2\"\n# What is the value of the variable B after the following code is executed?\n\nprint(B)"
        },
        {
            "cell_type": "code",
            "execution_count": 17,
            "metadata": {},
            "outputs": [
                {
                    "name": "stdout",
                    "output_type": "stream",
                    "text": "12\n"
                }
            ],
            "source": "C = A + B\n# What is the value of the variable C after the following code is executed?\n\nprint(C)"
        },
        {
            "cell_type": "code",
            "execution_count": 18,
            "metadata": {},
            "outputs": [
                {
                    "name": "stdout",
                    "output_type": "stream",
                    "text": "ABC\n"
                }
            ],
            "source": "D = \"ABCDEFG\"\n# Consider the variable D use slicing to print out the first three elements:\n\nprint(D[0:3])"
        },
        {
            "cell_type": "code",
            "execution_count": 19,
            "metadata": {},
            "outputs": [
                {
                    "name": "stdout",
                    "output_type": "stream",
                    "text": "correct\n"
                }
            ],
            "source": "E = 'clocrkr1e1c1t'\n# Use a stride value of 2 to print out every second character of the string E: \n\nprint(E[::2])"
        },
        {
            "cell_type": "code",
            "execution_count": 20,
            "metadata": {},
            "outputs": [
                {
                    "name": "stdout",
                    "output_type": "stream",
                    "text": "\\\n"
                }
            ],
            "source": "# Print out a backslash:\n\nprint(\"\\\\\")"
        },
        {
            "cell_type": "code",
            "execution_count": 21,
            "metadata": {},
            "outputs": [
                {
                    "data": {
                        "text/plain": "'YOU ARE WRONG'"
                    },
                    "execution_count": 21,
                    "metadata": {},
                    "output_type": "execute_result"
                }
            ],
            "source": "F = \"You are wrong\"\n# Convert the variable F to uppercase:\n\nF.upper()"
        },
        {
            "cell_type": "code",
            "execution_count": 22,
            "metadata": {},
            "outputs": [
                {
                    "data": {
                        "text/plain": "95"
                    },
                    "execution_count": 22,
                    "metadata": {},
                    "output_type": "execute_result"
                }
            ],
            "source": "G = \"Mary had a little lamb Little lamb, little lamb Mary had a little lamb \\\nIts fleece was white as snow And everywhere that Mary went Mary went, Mary went \\\nEverywhere that Mary went The lamb was sure to go\"\n# Consider the variable G, and find the first index of the sub-string snow:\n\nG.find(\"snow\")"
        },
        {
            "cell_type": "code",
            "execution_count": 23,
            "metadata": {},
            "outputs": [
                {
                    "data": {
                        "text/plain": "'Bob had a little lamb Little lamb, little lamb Bob had a little lamb Its fleece was white as snow And everywhere that Bob went Bob went, Bob went Everywhere that Bob went The lamb was sure to go'"
                    },
                    "execution_count": 23,
                    "metadata": {},
                    "output_type": "execute_result"
                }
            ],
            "source": "# In the variable G, replace the sub-string Mary with Bob:\n\nG.replace(\"Mary\", \"Bob\")"
        },
        {
            "cell_type": "markdown",
            "metadata": {},
            "source": "## 2. Module 2 - Python Data Structure"
        },
        {
            "cell_type": "markdown",
            "metadata": {},
            "source": "### Quick Practice Lab (Lists and Tuples)"
        },
        {
            "cell_type": "code",
            "execution_count": 24,
            "metadata": {},
            "outputs": [
                {
                    "data": {
                        "text/plain": "3"
                    },
                    "execution_count": 24,
                    "metadata": {},
                    "output_type": "execute_result"
                }
            ],
            "source": "# how do you access the last element of the tuple: A=(0,1,2,3)\n\nA=(0,1,2,3)\nA[3] # atau A[-1]"
        },
        {
            "cell_type": "code",
            "execution_count": 25,
            "metadata": {},
            "outputs": [
                {
                    "data": {
                        "text/plain": "['b', 'c']"
                    },
                    "execution_count": 25,
                    "metadata": {},
                    "output_type": "execute_result"
                }
            ],
            "source": "# Consider the list B=[\"a\",\"b\",\"c\"] \n# what is the result of the following B[1:]\n\nB=[\"a\",\"b\",\"c\"] \nB[1:]"
        },
        {
            "cell_type": "markdown",
            "metadata": {},
            "source": "### Quick Practice Lab (Sets)"
        },
        {
            "cell_type": "code",
            "execution_count": 26,
            "metadata": {},
            "outputs": [
                {
                    "data": {
                        "text/plain": "{'A', 'B', 'C', 'Z'}"
                    },
                    "execution_count": 26,
                    "metadata": {},
                    "output_type": "execute_result"
                }
            ],
            "source": "# What is the result of the following lines of code:\n\nS={'A','B','C'}\nU={'A','Z','C'}\nU.union(S)"
        },
        {
            "cell_type": "code",
            "execution_count": 27,
            "metadata": {},
            "outputs": [
                {
                    "data": {
                        "text/plain": "{'A', 'C'}"
                    },
                    "execution_count": 27,
                    "metadata": {},
                    "output_type": "execute_result"
                }
            ],
            "source": "# What is the intersection of set S and U \n\nS={'A','B','C'}\nU={'A','Z','C'}\nS.intersection(U)"
        },
        {
            "cell_type": "markdown",
            "metadata": {},
            "source": "### Quick Practice Lab (Dictionaries)"
        },
        {
            "cell_type": "code",
            "execution_count": 28,
            "metadata": {},
            "outputs": [
                {
                    "data": {
                        "text/plain": "dict_values([0, 1, 2])"
                    },
                    "execution_count": 28,
                    "metadata": {},
                    "output_type": "execute_result"
                }
            ],
            "source": "# Consider the following dictionary:\nD={'a':0,'b':1,'c':2}\n# What is the result of the following: D.values()\n\nD.values()"
        },
        {
            "cell_type": "code",
            "execution_count": 29,
            "metadata": {},
            "outputs": [
                {
                    "data": {
                        "text/plain": "1"
                    },
                    "execution_count": 29,
                    "metadata": {},
                    "output_type": "execute_result"
                }
            ],
            "source": "# Consider the following dictionary:\nD={'a':0,'b':1,'c':2}\n# What is the output of the following D['b'] :\n\nD['b']"
        },
        {
            "cell_type": "markdown",
            "metadata": {},
            "source": "### 2.1 Lab - Tuples"
        },
        {
            "cell_type": "markdown",
            "metadata": {},
            "source": "#### Quiz on Tuples"
        },
        {
            "cell_type": "code",
            "execution_count": 30,
            "metadata": {},
            "outputs": [
                {
                    "data": {
                        "text/plain": "8"
                    },
                    "execution_count": 30,
                    "metadata": {},
                    "output_type": "execute_result"
                }
            ],
            "source": "# Consider the following tuple:\ngenres_tuple = (\"pop\", \"rock\", \"soul\", \"hard rock\", \"soft rock\", \"R&B\", \"progressive rock\", \"disco\")\ngenres_tuple\n\n# Find the length of the tuple, genres_tuple:\n\nlen(genres_tuple)"
        },
        {
            "cell_type": "code",
            "execution_count": 31,
            "metadata": {},
            "outputs": [
                {
                    "data": {
                        "text/plain": "'hard rock'"
                    },
                    "execution_count": 31,
                    "metadata": {},
                    "output_type": "execute_result"
                }
            ],
            "source": "# Access the element, with respect to index 3:\n\ngenres_tuple[3]"
        },
        {
            "cell_type": "code",
            "execution_count": 32,
            "metadata": {},
            "outputs": [
                {
                    "data": {
                        "text/plain": "('hard rock', 'soft rock', 'R&B')"
                    },
                    "execution_count": 32,
                    "metadata": {},
                    "output_type": "execute_result"
                }
            ],
            "source": "# Use slicing to obtain indexes 3, 4 and 5:\n\ngenres_tuple[3:6]"
        },
        {
            "cell_type": "code",
            "execution_count": 33,
            "metadata": {},
            "outputs": [
                {
                    "data": {
                        "text/plain": "('pop', 'rock')"
                    },
                    "execution_count": 33,
                    "metadata": {},
                    "output_type": "execute_result"
                }
            ],
            "source": "# Find the first two elements of the tuple genres_tuple:\n\ngenres_tuple[0:2]"
        },
        {
            "cell_type": "code",
            "execution_count": 34,
            "metadata": {},
            "outputs": [
                {
                    "data": {
                        "text/plain": "7"
                    },
                    "execution_count": 34,
                    "metadata": {},
                    "output_type": "execute_result"
                }
            ],
            "source": "# Find the first index of \"disco\":\n\ngenres_tuple.index(\"disco\")"
        },
        {
            "cell_type": "code",
            "execution_count": 35,
            "metadata": {},
            "outputs": [
                {
                    "data": {
                        "text/plain": "[-5, -3, 1]"
                    },
                    "execution_count": 35,
                    "metadata": {},
                    "output_type": "execute_result"
                }
            ],
            "source": "# Generate a sorted List from the Tuple C_tuple=(-5, 1, -3):\n\nC_tuple=(-5, 1, -3)\nsorted(C_tuple)"
        },
        {
            "cell_type": "markdown",
            "metadata": {},
            "source": "### 2.2 Lab - Lists"
        },
        {
            "cell_type": "markdown",
            "metadata": {},
            "source": "#### Quiz on List"
        },
        {
            "cell_type": "code",
            "execution_count": 36,
            "metadata": {},
            "outputs": [
                {
                    "data": {
                        "text/plain": "[1, 'hello', [1, 2, 3], True]"
                    },
                    "execution_count": 36,
                    "metadata": {},
                    "output_type": "execute_result"
                }
            ],
            "source": "# Create a list a_list, with the following elements 1, hello, [1,2,3] and True. \n\na_list = [1, 'hello', [1, 2, 3] , True]\na_list"
        },
        {
            "cell_type": "code",
            "execution_count": 37,
            "metadata": {},
            "outputs": [
                {
                    "data": {
                        "text/plain": "'hello'"
                    },
                    "execution_count": 37,
                    "metadata": {},
                    "output_type": "execute_result"
                }
            ],
            "source": "# Find the value stored at index 1 of a_list.\n\na_list[1]"
        },
        {
            "cell_type": "code",
            "execution_count": 38,
            "metadata": {},
            "outputs": [
                {
                    "data": {
                        "text/plain": "['hello', [1, 2, 3], True]"
                    },
                    "execution_count": 38,
                    "metadata": {},
                    "output_type": "execute_result"
                }
            ],
            "source": "# Retrieve the elements stored at index 1, 2 and 3 of a_list.\n\na_list[1:4]"
        },
        {
            "cell_type": "code",
            "execution_count": 39,
            "metadata": {},
            "outputs": [
                {
                    "data": {
                        "text/plain": "[1, 'a', 2, 1, 'd']"
                    },
                    "execution_count": 39,
                    "metadata": {},
                    "output_type": "execute_result"
                }
            ],
            "source": "# Concatenate the following lists A = [1, 'a'] and B = [2, 1, 'd']:\n\nA = [1, 'a'] \nB = [2, 1, 'd']\nA + B"
        },
        {
            "cell_type": "markdown",
            "metadata": {},
            "source": "### 2.3 Lab - Sets"
        },
        {
            "cell_type": "markdown",
            "metadata": {},
            "source": "#### Quiz on Set"
        },
        {
            "cell_type": "code",
            "execution_count": 40,
            "metadata": {},
            "outputs": [
                {
                    "data": {
                        "text/plain": "{'electronic music', 'house', 'rap'}"
                    },
                    "execution_count": 40,
                    "metadata": {},
                    "output_type": "execute_result"
                }
            ],
            "source": "# Convert the list ['rap','house','electronic music', 'rap'] to a set:\n\nset(['rap','house','electronic music', 'rap'])"
        },
        {
            "cell_type": "code",
            "execution_count": 41,
            "metadata": {},
            "outputs": [
                {
                    "name": "stdout",
                    "output_type": "stream",
                    "text": "False\nsum(A) = 6\nsum(B) = 3\n"
                }
            ],
            "source": "# Consider the list A = [1, 2, 2, 1] and set B = set([1, 2, 2, 1]), does sum(A) = sum(B)\n\nA = [1, 2, 2, 1]\nB = set([1, 2, 2, 1])\nprint(sum(A) == sum(B))\nprint(\"sum(A) =\", sum(A))\nprint(\"sum(B) =\", sum(B))"
        },
        {
            "cell_type": "code",
            "execution_count": 42,
            "metadata": {},
            "outputs": [
                {
                    "data": {
                        "text/plain": "{'AC/DC', 'Back in Black', 'The Dark Side of the Moon', 'Thriller'}"
                    },
                    "execution_count": 42,
                    "metadata": {},
                    "output_type": "execute_result"
                }
            ],
            "source": "album_set1 = set([\"Thriller\", 'AC/DC', 'Back in Black'])\nalbum_set2 = set([ \"AC/DC\", \"Back in Black\", \"The Dark Side of the Moon\"])\n# Create a new set album_set3 that is the union of album_set1 and album_set2:\n\nalbum_set3 = album_set1.union(album_set2)\nalbum_set3"
        },
        {
            "cell_type": "code",
            "execution_count": 43,
            "metadata": {},
            "outputs": [
                {
                    "data": {
                        "text/plain": "True"
                    },
                    "execution_count": 43,
                    "metadata": {},
                    "output_type": "execute_result"
                }
            ],
            "source": "# Find out if album_set1 is a subset of album_set3:\n\nalbum_set1.issubset(album_set3)"
        },
        {
            "cell_type": "markdown",
            "metadata": {},
            "source": "### 2.4 Lab - Dictionaries"
        },
        {
            "cell_type": "markdown",
            "metadata": {},
            "source": "#### Quiz on Dictionaries"
        },
        {
            "cell_type": "code",
            "execution_count": 44,
            "metadata": {},
            "outputs": [
                {
                    "data": {
                        "text/plain": "{'The Bodyguard': '1992', 'Saturday Night Fever': '1977'}"
                    },
                    "execution_count": 44,
                    "metadata": {},
                    "output_type": "execute_result"
                }
            ],
            "source": "soundtrack_dic = {\"The Bodyguard\":\"1992\", \"Saturday Night Fever\":\"1977\"}\nsoundtrack_dic "
        },
        {
            "cell_type": "code",
            "execution_count": 45,
            "metadata": {},
            "outputs": [
                {
                    "data": {
                        "text/plain": "dict_keys(['The Bodyguard', 'Saturday Night Fever'])"
                    },
                    "execution_count": 45,
                    "metadata": {},
                    "output_type": "execute_result"
                }
            ],
            "source": "# a) In the dictionary soundtrack_dict what are the keys ?\n\nsoundtrack_dic.keys()"
        },
        {
            "cell_type": "code",
            "execution_count": 46,
            "metadata": {},
            "outputs": [
                {
                    "data": {
                        "text/plain": "dict_values(['1992', '1977'])"
                    },
                    "execution_count": 46,
                    "metadata": {},
                    "output_type": "execute_result"
                }
            ],
            "source": "# b) In the dictionary soundtrack_dict what are the values ?\n\nsoundtrack_dic.values()"
        },
        {
            "cell_type": "code",
            "execution_count": 47,
            "metadata": {},
            "outputs": [],
            "source": "# The Albums Back in Black, The Bodyguard and Thriller \n# have the following music recording sales in \n# millions 50, 50 and 65 respectively."
        },
        {
            "cell_type": "code",
            "execution_count": 48,
            "metadata": {},
            "outputs": [
                {
                    "data": {
                        "text/plain": "{'The Bodyguard': 50, 'Back in Black': 50, 'Thriller': 65}"
                    },
                    "execution_count": 48,
                    "metadata": {},
                    "output_type": "execute_result"
                }
            ],
            "source": "# a) Create a dictionary album_sales_dict where the keys are the album name and the sales in millions are the values.\n\nalbum_sales_dict = {\"The Bodyguard\":50, \"Back in Black\":50, \"Thriller\":65}\nalbum_sales_dict"
        },
        {
            "cell_type": "code",
            "execution_count": 49,
            "metadata": {},
            "outputs": [
                {
                    "data": {
                        "text/plain": "65"
                    },
                    "execution_count": 49,
                    "metadata": {},
                    "output_type": "execute_result"
                }
            ],
            "source": "# b) Use the dictionary to find the total sales of Thriller:\n\nalbum_sales_dict[\"Thriller\"]"
        },
        {
            "cell_type": "code",
            "execution_count": 50,
            "metadata": {},
            "outputs": [
                {
                    "data": {
                        "text/plain": "dict_keys(['The Bodyguard', 'Back in Black', 'Thriller'])"
                    },
                    "execution_count": 50,
                    "metadata": {},
                    "output_type": "execute_result"
                }
            ],
            "source": "# c) Find the names of the albums from the dictionary using the method keys:\n\nalbum_sales_dict.keys()"
        },
        {
            "cell_type": "code",
            "execution_count": 51,
            "metadata": {},
            "outputs": [
                {
                    "data": {
                        "text/plain": "dict_values([50, 50, 65])"
                    },
                    "execution_count": 51,
                    "metadata": {},
                    "output_type": "execute_result"
                }
            ],
            "source": "# d) Find the names of the recording sales from the dictionary using the method values:\n\nalbum_sales_dict.values()"
        },
        {
            "cell_type": "code",
            "execution_count": null,
            "metadata": {},
            "outputs": [],
            "source": ""
        }
    ],
    "metadata": {
        "kernelspec": {
            "display_name": "Python 3.6",
            "language": "python",
            "name": "python3"
        },
        "language_info": {
            "codemirror_mode": {
                "name": "ipython",
                "version": 3
            },
            "file_extension": ".py",
            "mimetype": "text/x-python",
            "name": "python",
            "nbconvert_exporter": "python",
            "pygments_lexer": "ipython3",
            "version": "3.6.9"
        }
    },
    "nbformat": 4,
    "nbformat_minor": 1
}